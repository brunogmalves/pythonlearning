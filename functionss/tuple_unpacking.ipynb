{
 "cells": [
  {
   "cell_type": "code",
   "execution_count": 1,
   "metadata": {},
   "outputs": [],
   "source": [
    "def month_functionary(mytuple):\n",
    "    #placeholder variable\n",
    "    name = []\n",
    "    hours = []\n",
    "\n",
    "    for key,value in mytuple:\n",
    "        name.append(key)\n",
    "        hours.append(value)\n",
    "    most_hours = hours.index(max(hours))\n",
    "    return (name[most_hours],hours[most_hours])"
   ]
  },
  {
   "cell_type": "code",
   "execution_count": 2,
   "metadata": {},
   "outputs": [
    {
     "name": "stdout",
     "output_type": "stream",
     "text": [
      "[('Bruno', 1000)]\n"
     ]
    }
   ],
   "source": [
    "functionary_data = []\n",
    "name,hours = month_functionary([('José',200),('Bruno',1000),('Carlos',500)])\n",
    "functionary_data = [(name,hours)]\n",
    "print(functionary_data)"
   ]
  }
 ],
 "metadata": {
  "kernelspec": {
   "display_name": "Python 3",
   "language": "python",
   "name": "python3"
  },
  "language_info": {
   "codemirror_mode": {
    "name": "ipython",
    "version": 3
   },
   "file_extension": ".py",
   "mimetype": "text/x-python",
   "name": "python",
   "nbconvert_exporter": "python",
   "pygments_lexer": "ipython3",
   "version": "3.12.3"
  }
 },
 "nbformat": 4,
 "nbformat_minor": 2
}
