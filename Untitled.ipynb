{
 "cells": [
  {
   "cell_type": "markdown",
   "id": "18f76401-261d-4be8-bda5-270704eaf1f9",
   "metadata": {},
   "source": [
    "# Código Maneiro"
   ]
  },
  {
   "cell_type": "markdown",
   "id": "dafc697b-71dc-4fea-bd9b-b647aa44f799",
   "metadata": {},
   "source": []
  },
  {
   "cell_type": "code",
   "execution_count": null,
   "id": "a7f74242-8b9a-4a66-83e9-4d635840bc44",
   "metadata": {},
   "outputs": [],
   "source": []
  }
 ],
 "metadata": {
  "kernelspec": {
   "display_name": "Python 3 (ipykernel)",
   "language": "python",
   "name": "python3"
  },
  "language_info": {
   "codemirror_mode": {
    "name": "ipython",
    "version": 3
   },
   "file_extension": ".py",
   "mimetype": "text/x-python",
   "name": "python",
   "nbconvert_exporter": "python",
   "pygments_lexer": "ipython3",
   "version": "3.12.4"
  }
 },
 "nbformat": 4,
 "nbformat_minor": 5
}
