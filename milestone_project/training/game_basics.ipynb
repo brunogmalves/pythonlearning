{
 "cells": [
  {
   "cell_type": "code",
   "execution_count": 88,
   "metadata": {},
   "outputs": [],
   "source": [
    "def diplay(row_1,row_2,row_3):\n",
    "    print(row_1)\n",
    "    print(row_2)\n",
    "    print(row_3)"
   ]
  },
  {
   "cell_type": "code",
   "execution_count": 89,
   "metadata": {},
   "outputs": [],
   "source": [
    "row1 = [' ',' ',' ']\n",
    "row2 = [' ',' ',' ']\n",
    "row3 = [' ',' ',' ']"
   ]
  },
  {
   "cell_type": "code",
   "execution_count": 90,
   "metadata": {},
   "outputs": [
    {
     "data": {
      "text/plain": [
       "[' ', ' ', ' ']"
      ]
     },
     "metadata": {},
     "output_type": "display_data"
    },
    {
     "data": {
      "text/plain": [
       "[' ', ' ', ' ']"
      ]
     },
     "metadata": {},
     "output_type": "display_data"
    },
    {
     "data": {
      "text/plain": [
       "[' ', ' ', ' ']"
      ]
     },
     "metadata": {},
     "output_type": "display_data"
    }
   ],
   "source": [
    "display(row1,row2,row3)"
   ]
  },
  {
   "cell_type": "code",
   "execution_count": 91,
   "metadata": {},
   "outputs": [],
   "source": [
    "\n",
    "position_index = int(input(\"Choose an index position: \"))"
   ]
  },
  {
   "cell_type": "code",
   "execution_count": 92,
   "metadata": {},
   "outputs": [
    {
     "data": {
      "text/plain": [
       "' '"
      ]
     },
     "execution_count": 92,
     "metadata": {},
     "output_type": "execute_result"
    }
   ],
   "source": [
    "row1[position_index]"
   ]
  },
  {
   "cell_type": "code",
   "execution_count": 93,
   "metadata": {},
   "outputs": [],
   "source": [
    "def user_choice():\n",
    "    control = 0\n",
    "\n",
    "    while control == 0:\n",
    "        choice = input('Please, enter a number (0-10): ')\n",
    "        if choice.isdigit():\n",
    "            if  int(choice) >= 0 and int(choice) <= 10:\n",
    "                control += 1\n",
    "                return int(choice)\n",
    "            else:\n",
    "                print('Please, enter a number inside the interval (0-10).')\n",
    "        else:\n",
    "            print('Please, enter with a valid number.')\n",
    "            \n"
   ]
  },
  {
   "cell_type": "code",
   "execution_count": 94,
   "metadata": {},
   "outputs": [
    {
     "data": {
      "text/plain": [
       "10"
      ]
     },
     "execution_count": 94,
     "metadata": {},
     "output_type": "execute_result"
    }
   ],
   "source": [
    "user_choice()"
   ]
  },
  {
   "cell_type": "code",
   "execution_count": 112,
   "metadata": {},
   "outputs": [],
   "source": [
    "def game_init():\n",
    "    my_list = [0,1,2]\n",
    "    option = 'Y'\n",
    "    return my_list, option"
   ]
  },
  {
   "cell_type": "code",
   "execution_count": 96,
   "metadata": {},
   "outputs": [],
   "source": [
    "def user_position ():\n",
    "    valid_range = range(0,3)\n",
    "    control = 0\n",
    "\n",
    "    while control == 0:\n",
    "        choice = input('Please, provide position you want to change(0, 1, or 2)')\n",
    "        if choice.isdigit() == True:\n",
    "            if int(choice) not in valid_range:\n",
    "                print('The number must be in the range (0, 1, or 2)')\n",
    "            if int(choice) in valid_range:\n",
    "                control += 1\n",
    "        elif choice.isdigit() == False:\n",
    "            print('This is not valid. Please, provide a integer number between 0 and 2.')\n",
    "    return int(choice)"
   ]
  },
  {
   "cell_type": "code",
   "execution_count": 97,
   "metadata": {},
   "outputs": [
    {
     "data": {
      "text/plain": [
       "1"
      ]
     },
     "execution_count": 97,
     "metadata": {},
     "output_type": "execute_result"
    }
   ],
   "source": [
    "user_position()"
   ]
  },
  {
   "cell_type": "code",
   "execution_count": 122,
   "metadata": {},
   "outputs": [],
   "source": [
    "def gameon_choice():\n",
    "    option = 'Y'\n",
    "    if option == 'Y':\n",
    "        option = input('Do you still want to play the game? (Y/N): ').capitalize()\n",
    "    elif option == 'N':\n",
    "        pass\n",
    "    while option != 'Y' and option != 'N':\n",
    "        option = input('Sorry, I did not get it. Do you want to still playing? (Y/N): ').capitalize()\n",
    "    return option"
   ]
  },
  {
   "cell_type": "code",
   "execution_count": 99,
   "metadata": {},
   "outputs": [
    {
     "data": {
      "text/plain": [
       "'Y'"
      ]
     },
     "execution_count": 99,
     "metadata": {},
     "output_type": "execute_result"
    }
   ],
   "source": [
    "gameon_choice()"
   ]
  },
  {
   "cell_type": "code",
   "execution_count": 100,
   "metadata": {},
   "outputs": [],
   "source": [
    "def value_mod():\n",
    "    supplied_value = input('Digit something to insert at thios position: ')\n",
    "    return supplied_value"
   ]
  },
  {
   "cell_type": "code",
   "execution_count": 118,
   "metadata": {},
   "outputs": [],
   "source": [
    "import os\n",
    "def clear_output():\n",
    "    os.system('clc')"
   ]
  },
  {
   "cell_type": "code",
   "execution_count": 115,
   "metadata": {},
   "outputs": [],
   "source": [
    "def display_list(my_list):\n",
    "    print('Here is the current list: ')\n",
    "    print(my_list)"
   ]
  },
  {
   "cell_type": "code",
   "execution_count": 123,
   "metadata": {},
   "outputs": [],
   "source": [
    "def changer_game():\n",
    "    \n",
    "    my_list, option = game_init()\n",
    "    \n",
    "    while option == 'Y':\n",
    "        clear_output()\n",
    "        display_list(my_list)\n",
    "        choice_position = user_position()\n",
    "        new_value = value_mod()\n",
    "        my_list[choice_position] = new_value\n",
    "        clear_output()\n",
    "        display_list(my_list)\n",
    "        option = gameon_choice()\n",
    "    if option == 'N':\n",
    "        print('Thank you for playing!')"
   ]
  },
  {
   "cell_type": "code",
   "execution_count": 124,
   "metadata": {},
   "outputs": [
    {
     "name": "stdout",
     "output_type": "stream",
     "text": [
      "Here is the current list: \n",
      "[0, 1, 2]\n",
      "Here is the current list: \n",
      "['n', 1, 2]\n",
      "Here is the current list: \n",
      "['n', 1, 2]\n",
      "Here is the current list: \n",
      "['n', 1, 2]\n",
      "Thank you for playing!\n"
     ]
    }
   ],
   "source": [
    "changer_game()"
   ]
  }
 ],
 "metadata": {
  "kernelspec": {
   "display_name": "Python 3",
   "language": "python",
   "name": "python3"
  },
  "language_info": {
   "codemirror_mode": {
    "name": "ipython",
    "version": 3
   },
   "file_extension": ".py",
   "mimetype": "text/x-python",
   "name": "python",
   "nbconvert_exporter": "python",
   "pygments_lexer": "ipython3",
   "version": "3.12.3"
  }
 },
 "nbformat": 4,
 "nbformat_minor": 2
}
